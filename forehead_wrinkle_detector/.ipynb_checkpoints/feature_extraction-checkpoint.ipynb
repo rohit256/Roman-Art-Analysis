{
 "cells": [
  {
   "cell_type": "code",
   "execution_count": 1,
   "metadata": {},
   "outputs": [
    {
     "name": "stdout",
     "output_type": "stream",
     "text": [
      "tipe: /home/rohit/Desktop/gsoc/RomanArtAnalysis/Analysis-of-facial-wrinkles/berkerut/a15.jpg, sobel_y: 102.3, sobel_x: 71.7701, per: 1.42538\n",
      "tipe: /home/rohit/Desktop/gsoc/RomanArtAnalysis/Analysis-of-facial-wrinkles/berkerut/a40.jpg, sobel_y: 127.054, sobel_x: 63.5616, per: 1.99891\n",
      "tipe: /home/rohit/Desktop/gsoc/RomanArtAnalysis/Analysis-of-facial-wrinkles/berkerut/a33.jpg, sobel_y: 53.8826, sobel_x: 56.6826, per: 0.950602\n",
      "tipe: /home/rohit/Desktop/gsoc/RomanArtAnalysis/Analysis-of-facial-wrinkles/berkerut/a38.jpg, sobel_y: 47.1565, sobel_x: 45.4736, per: 1.03701\n",
      "tipe: /home/rohit/Desktop/gsoc/RomanArtAnalysis/Analysis-of-facial-wrinkles/berkerut/a6.jpg, sobel_y: 65.85, sobel_x: 68.9989, per: 0.954364\n",
      "tipe: /home/rohit/Desktop/gsoc/RomanArtAnalysis/Analysis-of-facial-wrinkles/berkerut/a41.jpg, sobel_y: 64.0263, sobel_x: 53.8318, per: 1.18938\n",
      "tipe: /home/rohit/Desktop/gsoc/RomanArtAnalysis/Analysis-of-facial-wrinkles/berkerut/a46.jpg, sobel_y: 87.1593, sobel_x: 55.4073, per: 1.57306\n",
      "tipe: /home/rohit/Desktop/gsoc/RomanArtAnalysis/Analysis-of-facial-wrinkles/berkerut/a7.jpg, sobel_y: 91.3123, sobel_x: 73.2767, per: 1.24613\n",
      "tipe: /home/rohit/Desktop/gsoc/RomanArtAnalysis/Analysis-of-facial-wrinkles/berkerut/a29.jpg, sobel_y: 66.6198, sobel_x: 47.2425, per: 1.41017\n",
      "tipe: /home/rohit/Desktop/gsoc/RomanArtAnalysis/Analysis-of-facial-wrinkles/berkerut/a18.jpg, sobel_y: 34.6765, sobel_x: 32.2384, per: 1.07563\n",
      "tipe: /home/rohit/Desktop/gsoc/RomanArtAnalysis/Analysis-of-facial-wrinkles/berkerut/a49.jpg, sobel_y: 93.5563, sobel_x: 70.4599, per: 1.32779\n",
      "tipe: /home/rohit/Desktop/gsoc/RomanArtAnalysis/Analysis-of-facial-wrinkles/berkerut/a39.jpg, sobel_y: 58.0847, sobel_x: 49.1569, per: 1.18162\n",
      "tipe: /home/rohit/Desktop/gsoc/RomanArtAnalysis/Analysis-of-facial-wrinkles/berkerut/a8.jpg, sobel_y: 87.1795, sobel_x: 92.4531, per: 0.94296\n",
      "tipe: /home/rohit/Desktop/gsoc/RomanArtAnalysis/Analysis-of-facial-wrinkles/berkerut/a23.jpg, sobel_y: 118.5, sobel_x: 100.389, per: 1.1804\n",
      "tipe: /home/rohit/Desktop/gsoc/RomanArtAnalysis/Analysis-of-facial-wrinkles/berkerut/a25.jpg, sobel_y: 91.4108, sobel_x: 63.3355, per: 1.44328\n",
      "tipe: /home/rohit/Desktop/gsoc/RomanArtAnalysis/Analysis-of-facial-wrinkles/berkerut/a17.jpg, sobel_y: 110.091, sobel_x: 47.8729, per: 2.29966\n",
      "tipe: /home/rohit/Desktop/gsoc/RomanArtAnalysis/Analysis-of-facial-wrinkles/berkerut/a9.jpg, sobel_y: 62.8957, sobel_x: 88.5421, per: 0.710348\n",
      "tipe: /home/rohit/Desktop/gsoc/RomanArtAnalysis/Analysis-of-facial-wrinkles/berkerut/a36.jpg, sobel_y: 73.2896, sobel_x: 52.2454, per: 1.4028\n",
      "tipe: /home/rohit/Desktop/gsoc/RomanArtAnalysis/Analysis-of-facial-wrinkles/berkerut/a13.jpg, sobel_y: 82.7908, sobel_x: 64.1014, per: 1.29156\n",
      "tipe: /home/rohit/Desktop/gsoc/RomanArtAnalysis/Analysis-of-facial-wrinkles/berkerut/a34.jpg, sobel_y: 107.766, sobel_x: 44.7688, per: 2.40717\n",
      "tipe: /home/rohit/Desktop/gsoc/RomanArtAnalysis/Analysis-of-facial-wrinkles/berkerut/a24.jpg, sobel_y: 130.463, sobel_x: 56.5578, per: 2.30672\n",
      "tipe: /home/rohit/Desktop/gsoc/RomanArtAnalysis/Analysis-of-facial-wrinkles/berkerut/a2.jpg, sobel_y: 60.9618, sobel_x: 75.9705, per: 0.80244\n",
      "tipe: /home/rohit/Desktop/gsoc/RomanArtAnalysis/Analysis-of-facial-wrinkles/berkerut/a10.jpg, sobel_y: 97.5095, sobel_x: 67.9972, per: 1.43402\n",
      "tipe: /home/rohit/Desktop/gsoc/RomanArtAnalysis/Analysis-of-facial-wrinkles/berkerut/a11.jpg, sobel_y: 72.8322, sobel_x: 52.3466, per: 1.39135\n",
      "tipe: /home/rohit/Desktop/gsoc/RomanArtAnalysis/Analysis-of-facial-wrinkles/berkerut/a5.jpg, sobel_y: 81.8576, sobel_x: 51.9558, per: 1.57552\n",
      "tipe: /home/rohit/Desktop/gsoc/RomanArtAnalysis/Analysis-of-facial-wrinkles/berkerut/a20.jpg, sobel_y: 172.319, sobel_x: 44.5818, per: 3.86523\n",
      "tipe: /home/rohit/Desktop/gsoc/RomanArtAnalysis/Analysis-of-facial-wrinkles/berkerut/a31.jpg, sobel_y: 76.6285, sobel_x: 55.105, per: 1.39059\n",
      "tipe: /home/rohit/Desktop/gsoc/RomanArtAnalysis/Analysis-of-facial-wrinkles/berkerut/a42.jpg, sobel_y: 143.594, sobel_x: 53.5332, per: 2.68234\n",
      "tipe: /home/rohit/Desktop/gsoc/RomanArtAnalysis/Analysis-of-facial-wrinkles/berkerut/a27.jpg, sobel_y: 150.663, sobel_x: 75.3179, per: 2.00036\n",
      "tipe: /home/rohit/Desktop/gsoc/RomanArtAnalysis/Analysis-of-facial-wrinkles/berkerut/a16.jpg, sobel_y: 103.951, sobel_x: 39.4111, per: 2.63762\n",
      "tipe: /home/rohit/Desktop/gsoc/RomanArtAnalysis/Analysis-of-facial-wrinkles/berkerut/a21.jpg, sobel_y: 119.109, sobel_x: 76.8272, per: 1.55035\n",
      "tipe: /home/rohit/Desktop/gsoc/RomanArtAnalysis/Analysis-of-facial-wrinkles/berkerut/a48.jpg, sobel_y: 85.3641, sobel_x: 53.0552, per: 1.60897\n",
      "tipe: /home/rohit/Desktop/gsoc/RomanArtAnalysis/Analysis-of-facial-wrinkles/berkerut/a1.jpg, sobel_y: 82.5835, sobel_x: 82.5728, per: 1.00013\n",
      "tipe: /home/rohit/Desktop/gsoc/RomanArtAnalysis/Analysis-of-facial-wrinkles/berkerut/a44.jpg, sobel_y: 72.8208, sobel_x: 45.6762, per: 1.59428\n",
      "tipe: /home/rohit/Desktop/gsoc/RomanArtAnalysis/Analysis-of-facial-wrinkles/berkerut/a30.jpg, sobel_y: 79.4961, sobel_x: 53.4476, per: 1.48737\n",
      "tipe: /home/rohit/Desktop/gsoc/RomanArtAnalysis/Analysis-of-facial-wrinkles/berkerut/a47.jpg, sobel_y: 77.0797, sobel_x: 62.6841, per: 1.22965\n",
      "tipe: /home/rohit/Desktop/gsoc/RomanArtAnalysis/Analysis-of-facial-wrinkles/berkerut/a4.jpg, sobel_y: 81.1987, sobel_x: 53.3132, per: 1.52305\n",
      "tipe: /home/rohit/Desktop/gsoc/RomanArtAnalysis/Analysis-of-facial-wrinkles/berkerut/a28.jpg, sobel_y: 117.509, sobel_x: 95.5106, per: 1.23033\n",
      "tipe: /home/rohit/Desktop/gsoc/RomanArtAnalysis/Analysis-of-facial-wrinkles/berkerut/a32.jpg, sobel_y: 70.9804, sobel_x: 58.9719, per: 1.20363\n",
      "tipe: /home/rohit/Desktop/gsoc/RomanArtAnalysis/Analysis-of-facial-wrinkles/berkerut/a43.jpg, sobel_y: 123.186, sobel_x: 44.8317, per: 2.74774\n",
      "tipe: /home/rohit/Desktop/gsoc/RomanArtAnalysis/Analysis-of-facial-wrinkles/berkerut/a3.jpg, sobel_y: 92.2636, sobel_x: 55.8806, per: 1.65108\n",
      "tipe: /home/rohit/Desktop/gsoc/RomanArtAnalysis/Analysis-of-facial-wrinkles/berkerut/a22.jpg, sobel_y: 60.6136, sobel_x: 53.2802, per: 1.13764\n",
      "tipe: /home/rohit/Desktop/gsoc/RomanArtAnalysis/Analysis-of-facial-wrinkles/berkerut/a50.jpg, sobel_y: 91.5772, sobel_x: 67.0743, per: 1.36531\n",
      "tipe: /home/rohit/Desktop/gsoc/RomanArtAnalysis/Analysis-of-facial-wrinkles/berkerut/a35.jpg, sobel_y: 111.641, sobel_x: 72.8416, per: 1.53265\n",
      "tipe: /home/rohit/Desktop/gsoc/RomanArtAnalysis/Analysis-of-facial-wrinkles/berkerut/a45.jpg, sobel_y: 67.8323, sobel_x: 59.7669, per: 1.13495\n",
      "tipe: /home/rohit/Desktop/gsoc/RomanArtAnalysis/Analysis-of-facial-wrinkles/berkerut/a14.jpg, sobel_y: 54.2847, sobel_x: 28.5208, per: 1.90334\n",
      "tipe: /home/rohit/Desktop/gsoc/RomanArtAnalysis/Analysis-of-facial-wrinkles/berkerut/a26.jpg, sobel_y: 82.5049, sobel_x: 66.3666, per: 1.24317\n",
      "tipe: /home/rohit/Desktop/gsoc/RomanArtAnalysis/Analysis-of-facial-wrinkles/berkerut/a12.jpg, sobel_y: 66.0033, sobel_x: 65.2396, per: 1.01171\n",
      "tipe: /home/rohit/Desktop/gsoc/RomanArtAnalysis/Analysis-of-facial-wrinkles/berkerut/a19.jpg, sobel_y: 50.1812, sobel_x: 19.3466, per: 2.5938\n",
      "tipe: /home/rohit/Desktop/gsoc/RomanArtAnalysis/Analysis-of-facial-wrinkles/berkerut/a37.jpg, sobel_y: 111.604, sobel_x: 36.0813, per: 3.09312\n",
      "tipe: /home/rohit/Desktop/gsoc/RomanArtAnalysis/Analysis-of-facial-wrinkles/unwrinkled/b50.jpg, sobel_y: 49.668, sobel_x: 51.7947, per: 0.95894\n",
      "tipe: /home/rohit/Desktop/gsoc/RomanArtAnalysis/Analysis-of-facial-wrinkles/unwrinkled/b23.jpg, sobel_y: 44.6372, sobel_x: 60.514, per: 0.737634\n",
      "tipe: /home/rohit/Desktop/gsoc/RomanArtAnalysis/Analysis-of-facial-wrinkles/unwrinkled/b47.jpg, sobel_y: 41.2283, sobel_x: 62.7399, per: 0.65713\n",
      "tipe: /home/rohit/Desktop/gsoc/RomanArtAnalysis/Analysis-of-facial-wrinkles/unwrinkled/b21.jpg, sobel_y: 76.0272, sobel_x: 65.1621, per: 1.16674\n",
      "tipe: /home/rohit/Desktop/gsoc/RomanArtAnalysis/Analysis-of-facial-wrinkles/unwrinkled/b30.jpg, sobel_y: 34.32, sobel_x: 62.2393, per: 0.551421\n",
      "tipe: /home/rohit/Desktop/gsoc/RomanArtAnalysis/Analysis-of-facial-wrinkles/unwrinkled/b22.jpg, sobel_y: 59.3777, sobel_x: 80.1874, per: 0.740486\n",
      "tipe: /home/rohit/Desktop/gsoc/RomanArtAnalysis/Analysis-of-facial-wrinkles/unwrinkled/b13.jpg, sobel_y: 38.6718, sobel_x: 49.7151, per: 0.777868\n",
      "tipe: /home/rohit/Desktop/gsoc/RomanArtAnalysis/Analysis-of-facial-wrinkles/unwrinkled/b37.jpg, sobel_y: 120.603, sobel_x: 74.7031, per: 1.61444\n",
      "tipe: /home/rohit/Desktop/gsoc/RomanArtAnalysis/Analysis-of-facial-wrinkles/unwrinkled/b46.jpg, sobel_y: 109.33, sobel_x: 103.56, per: 1.05571\n",
      "tipe: /home/rohit/Desktop/gsoc/RomanArtAnalysis/Analysis-of-facial-wrinkles/unwrinkled/b27.jpg, sobel_y: 5.71932, sobel_x: 12.7142, per: 0.449838\n",
      "tipe: /home/rohit/Desktop/gsoc/RomanArtAnalysis/Analysis-of-facial-wrinkles/unwrinkled/b24.jpg, sobel_y: 3.31223, sobel_x: 17.2095, per: 0.192466\n",
      "tipe: /home/rohit/Desktop/gsoc/RomanArtAnalysis/Analysis-of-facial-wrinkles/unwrinkled/b48.jpg, sobel_y: 21.2284, sobel_x: 29.5011, per: 0.719579\n",
      "tipe: /home/rohit/Desktop/gsoc/RomanArtAnalysis/Analysis-of-facial-wrinkles/unwrinkled/b14.jpg, sobel_y: 71.943, sobel_x: 55.8237, per: 1.28876\n",
      "tipe: /home/rohit/Desktop/gsoc/RomanArtAnalysis/Analysis-of-facial-wrinkles/unwrinkled/b33.jpg, sobel_y: 49.4746, sobel_x: 70.7517, per: 0.69927\n",
      "tipe: /home/rohit/Desktop/gsoc/RomanArtAnalysis/Analysis-of-facial-wrinkles/unwrinkled/b18.jpg, sobel_y: 27.7778, sobel_x: 54.772, per: 0.507153\n",
      "tipe: /home/rohit/Desktop/gsoc/RomanArtAnalysis/Analysis-of-facial-wrinkles/unwrinkled/b43.jpg, sobel_y: 39.7756, sobel_x: 62.8514, per: 0.632852\n",
      "tipe: /home/rohit/Desktop/gsoc/RomanArtAnalysis/Analysis-of-facial-wrinkles/unwrinkled/b4.jpg, sobel_y: 31.8668, sobel_x: 31.5342, per: 1.01055\n",
      "tipe: /home/rohit/Desktop/gsoc/RomanArtAnalysis/Analysis-of-facial-wrinkles/unwrinkled/b28.jpg, sobel_y: 121.043, sobel_x: 92.5258, per: 1.30821\n",
      "tipe: /home/rohit/Desktop/gsoc/RomanArtAnalysis/Analysis-of-facial-wrinkles/unwrinkled/b10.jpg, sobel_y: 23.486, sobel_x: 39.8934, per: 0.588718\n",
      "tipe: /home/rohit/Desktop/gsoc/RomanArtAnalysis/Analysis-of-facial-wrinkles/unwrinkled/b39.jpg, sobel_y: 15.3214, sobel_x: 28.55, per: 0.536654\n",
      "tipe: /home/rohit/Desktop/gsoc/RomanArtAnalysis/Analysis-of-facial-wrinkles/unwrinkled/b41.jpg, sobel_y: 96.326, sobel_x: 69.2236, per: 1.39152\n",
      "tipe: /home/rohit/Desktop/gsoc/RomanArtAnalysis/Analysis-of-facial-wrinkles/unwrinkled/b11.jpg, sobel_y: 53.5848, sobel_x: 36.103, per: 1.48422\n",
      "tipe: /home/rohit/Desktop/gsoc/RomanArtAnalysis/Analysis-of-facial-wrinkles/unwrinkled/b35.jpg, sobel_y: 50.506, sobel_x: 35.4736, per: 1.42376\n",
      "tipe: /home/rohit/Desktop/gsoc/RomanArtAnalysis/Analysis-of-facial-wrinkles/unwrinkled/b29.jpg, sobel_y: 34.728, sobel_x: 47.7551, per: 0.72721\n",
      "tipe: /home/rohit/Desktop/gsoc/RomanArtAnalysis/Analysis-of-facial-wrinkles/unwrinkled/b49.jpg, sobel_y: 15.2526, sobel_x: 61.7486, per: 0.247012\n",
      "tipe: /home/rohit/Desktop/gsoc/RomanArtAnalysis/Analysis-of-facial-wrinkles/unwrinkled/b17.jpg, sobel_y: 77.0201, sobel_x: 85.4718, per: 0.901116\n",
      "tipe: /home/rohit/Desktop/gsoc/RomanArtAnalysis/Analysis-of-facial-wrinkles/unwrinkled/b32.jpg, sobel_y: 27.5538, sobel_x: 42.6706, per: 0.645732\n",
      "tipe: /home/rohit/Desktop/gsoc/RomanArtAnalysis/Analysis-of-facial-wrinkles/unwrinkled/b40.jpg, sobel_y: 47.3996, sobel_x: 60.7804, per: 0.77985\n",
      "tipe: /home/rohit/Desktop/gsoc/RomanArtAnalysis/Analysis-of-facial-wrinkles/unwrinkled/b20.jpg, sobel_y: 21.8379, sobel_x: 56.3597, per: 0.387474\n",
      "tipe: /home/rohit/Desktop/gsoc/RomanArtAnalysis/Analysis-of-facial-wrinkles/unwrinkled/b34.jpg, sobel_y: 86.0578, sobel_x: 94.7699, per: 0.908071\n",
      "tipe: /home/rohit/Desktop/gsoc/RomanArtAnalysis/Analysis-of-facial-wrinkles/unwrinkled/b6.jpg, sobel_y: 65.0685, sobel_x: 90.0732, per: 0.722396\n",
      "tipe: /home/rohit/Desktop/gsoc/RomanArtAnalysis/Analysis-of-facial-wrinkles/unwrinkled/b45.jpg, sobel_y: 77.8757, sobel_x: 59.5447, per: 1.30785\n",
      "tipe: /home/rohit/Desktop/gsoc/RomanArtAnalysis/Analysis-of-facial-wrinkles/unwrinkled/b7.jpg, sobel_y: 36.184, sobel_x: 55.5417, per: 0.651475\n",
      "tipe: /home/rohit/Desktop/gsoc/RomanArtAnalysis/Analysis-of-facial-wrinkles/unwrinkled/b1.jpg, sobel_y: 66.4361, sobel_x: 63.508, per: 1.04611\n",
      "tipe: /home/rohit/Desktop/gsoc/RomanArtAnalysis/Analysis-of-facial-wrinkles/unwrinkled/b26.jpg, sobel_y: 0.114522, sobel_x: 5.93611, per: 0.0192924\n",
      "tipe: /home/rohit/Desktop/gsoc/RomanArtAnalysis/Analysis-of-facial-wrinkles/unwrinkled/b25.jpg, sobel_y: 4.19284, sobel_x: 13.2829, per: 0.315656\n",
      "tipe: /home/rohit/Desktop/gsoc/RomanArtAnalysis/Analysis-of-facial-wrinkles/unwrinkled/b2.jpg, sobel_y: 64.4295, sobel_x: 45.3451, per: 1.42087\n",
      "tipe: /home/rohit/Desktop/gsoc/RomanArtAnalysis/Analysis-of-facial-wrinkles/unwrinkled/b31.jpg, sobel_y: 48.8914, sobel_x: 40.0587, per: 1.22049\n",
      "tipe: /home/rohit/Desktop/gsoc/RomanArtAnalysis/Analysis-of-facial-wrinkles/unwrinkled/b16.jpg, sobel_y: 23.1889, sobel_x: 46.3788, per: 0.499988\n",
      "tipe: /home/rohit/Desktop/gsoc/RomanArtAnalysis/Analysis-of-facial-wrinkles/unwrinkled/b3.jpg, sobel_y: 33.0022, sobel_x: 29.9452, per: 1.10209\n",
      "tipe: /home/rohit/Desktop/gsoc/RomanArtAnalysis/Analysis-of-facial-wrinkles/unwrinkled/b19.jpg, sobel_y: 69.4631, sobel_x: 70.9411, per: 0.979166\n",
      "tipe: /home/rohit/Desktop/gsoc/RomanArtAnalysis/Analysis-of-facial-wrinkles/unwrinkled/b12.jpg, sobel_y: 78.7805, sobel_x: 48.7411, per: 1.6163\n",
      "tipe: /home/rohit/Desktop/gsoc/RomanArtAnalysis/Analysis-of-facial-wrinkles/unwrinkled/b9.jpg, sobel_y: 33.3194, sobel_x: 25.5865, per: 1.30223\n",
      "tipe: /home/rohit/Desktop/gsoc/RomanArtAnalysis/Analysis-of-facial-wrinkles/unwrinkled/b44.jpg, sobel_y: 31.2331, sobel_x: 50.1688, per: 0.622561\n",
      "tipe: /home/rohit/Desktop/gsoc/RomanArtAnalysis/Analysis-of-facial-wrinkles/unwrinkled/b36.jpg, sobel_y: 44.9298, sobel_x: 60.0508, per: 0.748196\n",
      "tipe: /home/rohit/Desktop/gsoc/RomanArtAnalysis/Analysis-of-facial-wrinkles/unwrinkled/b5.jpg, sobel_y: 61.1197, sobel_x: 83.8428, per: 0.72898\n",
      "tipe: /home/rohit/Desktop/gsoc/RomanArtAnalysis/Analysis-of-facial-wrinkles/unwrinkled/b42.jpg, sobel_y: 164.96, sobel_x: 77.8347, per: 2.11936\n",
      "tipe: /home/rohit/Desktop/gsoc/RomanArtAnalysis/Analysis-of-facial-wrinkles/unwrinkled/b15.jpg, sobel_y: 41.3777, sobel_x: 71.3529, per: 0.579903\n"
     ]
    }
   ],
   "source": [
    "import os\n",
    "import glob\n",
    "import cv2\n",
    "import numpy as np\n",
    "import matplotlib.pyplot as plt\n",
    "\n",
    "path = '/home/rohit/Desktop/gsoc/RomanArtAnalysis/Analysis-of-facial-wrinkles/'\n",
    "classes = ['berkerut', 'unwrinkled']\n",
    "\n",
    "sobely_kerut = []\n",
    "sobelx_kerut = []\n",
    "sobely_datar = []\n",
    "sobelx_datar = []\n",
    "per_kerut = []\n",
    "per_datar = []\n",
    "\n",
    "msg = \"tipe: {0}, sobel_y: {1:1.6}, sobel_x: {2:1.6}, per: {3:1.6}\"\n",
    "\n",
    "for i in classes:\n",
    "    file_path = os.path.join(path, i, '*.jpg')\n",
    "    files = glob.glob(file_path)\n",
    "    for j in files:\n",
    "        image = cv2.imread(j)\n",
    "        image = cv2.cvtColor(image, cv2.COLOR_BGR2RGB)\n",
    "        image_gray = cv2.GaussianBlur(image,(5,5),0)\n",
    "        image_gray = cv2.cvtColor(image_gray, cv2.COLOR_RGB2GRAY)\n",
    "        sobely = cv2.Sobel(image_gray, cv2.CV_8UC1, 0, 1, ksize=5)\n",
    "        sobelx = cv2.Sobel(image_gray, cv2.CV_8UC1, 1, 0, ksize=5)\n",
    "        \n",
    "        height, width= sobely.shape\n",
    "        val_1 = cv2.sumElems(sobely)[0]/(height * width)\n",
    "        val_2 = cv2.sumElems(sobelx)[0]/(height * width)\n",
    "        per = val_1/val_2\n",
    "        \n",
    "        if i == 'berkerut':\n",
    "            sobely_kerut.append(val_1)\n",
    "            sobelx_kerut.append(val_2)\n",
    "            per_kerut.append(per)\n",
    "        else:\n",
    "            sobely_datar.append(val_1)\n",
    "            sobelx_datar.append(val_2)\n",
    "            per_datar.append(per)\n",
    "        \n",
    "        print (msg.format(j, val_1, val_2, val_1/val_2))"
   ]
  },
  {
   "cell_type": "code",
   "execution_count": 2,
   "metadata": {},
   "outputs": [
    {
     "name": "stdout",
     "output_type": "stream",
     "text": [
      "88.2840072262\n",
      "28.0029505813\n"
     ]
    }
   ],
   "source": [
    "print np.mean(sobely_kerut)\n",
    "print np.std(sobely_kerut)"
   ]
  },
  {
   "cell_type": "code",
   "execution_count": 3,
   "metadata": {},
   "outputs": [
    {
     "name": "stdout",
     "output_type": "stream",
     "text": [
      "59.3175663521\n",
      "16.3732625456\n"
     ]
    }
   ],
   "source": [
    "print np.mean(sobelx_kerut)\n",
    "print np.std(sobelx_kerut)"
   ]
  },
  {
   "cell_type": "code",
   "execution_count": 4,
   "metadata": {},
   "outputs": [
    {
     "name": "stdout",
     "output_type": "stream",
     "text": [
      "1.57953378876\n",
      "0.633547985698\n"
     ]
    }
   ],
   "source": [
    "print np.mean(per_kerut)\n",
    "print np.std(per_kerut)"
   ]
  },
  {
   "cell_type": "code",
   "execution_count": 5,
   "metadata": {},
   "outputs": [
    {
     "name": "stdout",
     "output_type": "stream",
     "text": [
      "50.8260584039\n",
      "33.0811826896\n"
     ]
    }
   ],
   "source": [
    "print np.mean(sobely_datar)\n",
    "print np.std(sobely_datar)"
   ]
  },
  {
   "cell_type": "code",
   "execution_count": 6,
   "metadata": {},
   "outputs": [
    {
     "name": "stdout",
     "output_type": "stream",
     "text": [
      "54.9008517827\n",
      "22.2577306876\n"
     ]
    }
   ],
   "source": [
    "print np.mean(sobelx_datar)\n",
    "print np.std(sobelx_datar)"
   ]
  },
  {
   "cell_type": "code",
   "execution_count": 7,
   "metadata": {},
   "outputs": [
    {
     "name": "stdout",
     "output_type": "stream",
     "text": [
      "0.876938963721\n",
      "0.418915046893\n"
     ]
    }
   ],
   "source": [
    "print np.mean(per_datar)\n",
    "print np.std(per_datar)"
   ]
  },
  {
   "cell_type": "code",
   "execution_count": null,
   "metadata": {
    "collapsed": true
   },
   "outputs": [],
   "source": []
  }
 ],
 "metadata": {
  "kernelspec": {
   "display_name": "Python 2",
   "language": "python",
   "name": "python2"
  },
  "language_info": {
   "codemirror_mode": {
    "name": "ipython",
    "version": 3
   },
   "file_extension": ".py",
   "mimetype": "text/x-python",
   "name": "python",
   "nbconvert_exporter": "python",
   "pygments_lexer": "ipython3",
   "version": "3.6.3"
  }
 },
 "nbformat": 4,
 "nbformat_minor": 2
}
