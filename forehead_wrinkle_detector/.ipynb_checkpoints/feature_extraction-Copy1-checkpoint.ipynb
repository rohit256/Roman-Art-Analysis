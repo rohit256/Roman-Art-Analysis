{
 "cells": [
  {
   "cell_type": "code",
   "execution_count": 8,
   "metadata": {},
   "outputs": [
    {
     "name": "stdout",
     "output_type": "stream",
     "text": [
      "/home/rohit/Desktop/gsoc/RomanArtAnalysis/Analysis-of-facial-wrinkles/wrinkled/a15.jpg\n",
      "1.7418478260869565\n",
      "/home/rohit/Desktop/gsoc/RomanArtAnalysis/Analysis-of-facial-wrinkles/wrinkled/a40.jpg\n",
      "1.5544048801248405\n",
      "/home/rohit/Desktop/gsoc/RomanArtAnalysis/Analysis-of-facial-wrinkles/wrinkled/a33.jpg\n",
      "0.8724709784411276\n",
      "/home/rohit/Desktop/gsoc/RomanArtAnalysis/Analysis-of-facial-wrinkles/wrinkled/a38.jpg\n",
      "0.9134117647058824\n",
      "/home/rohit/Desktop/gsoc/RomanArtAnalysis/Analysis-of-facial-wrinkles/wrinkled/a6.jpg\n",
      "1.246498599439776\n",
      "/home/rohit/Desktop/gsoc/RomanArtAnalysis/Analysis-of-facial-wrinkles/wrinkled/a41.jpg\n",
      "1.0682860998650472\n",
      "/home/rohit/Desktop/gsoc/RomanArtAnalysis/Analysis-of-facial-wrinkles/wrinkled/a46.jpg\n",
      "2.0001502403846154\n",
      "/home/rohit/Desktop/gsoc/RomanArtAnalysis/Analysis-of-facial-wrinkles/wrinkled/a7.jpg\n",
      "1.2107191054559476\n",
      "/home/rohit/Desktop/gsoc/RomanArtAnalysis/Analysis-of-facial-wrinkles/wrinkled/a29.jpg\n",
      "0.9384328358208955\n",
      "/home/rohit/Desktop/gsoc/RomanArtAnalysis/Analysis-of-facial-wrinkles/wrinkled/a18.jpg\n",
      "0.8445369406867846\n",
      "/home/rohit/Desktop/gsoc/RomanArtAnalysis/Analysis-of-facial-wrinkles/wrinkled/a49.jpg\n",
      "2.0116724738675957\n",
      "/home/rohit/Desktop/gsoc/RomanArtAnalysis/Analysis-of-facial-wrinkles/wrinkled/a39.jpg\n",
      "1.6200909466721787\n",
      "/home/rohit/Desktop/gsoc/RomanArtAnalysis/Analysis-of-facial-wrinkles/wrinkled/a8.jpg\n",
      "1.2883116883116883\n",
      "/home/rohit/Desktop/gsoc/RomanArtAnalysis/Analysis-of-facial-wrinkles/wrinkled/a23.jpg\n",
      "2.1505681818181817\n",
      "/home/rohit/Desktop/gsoc/RomanArtAnalysis/Analysis-of-facial-wrinkles/wrinkled/a25.jpg\n",
      "1.7823076923076924\n",
      "/home/rohit/Desktop/gsoc/RomanArtAnalysis/Analysis-of-facial-wrinkles/wrinkled/a17.jpg\n",
      "2.2423076923076923\n",
      "/home/rohit/Desktop/gsoc/RomanArtAnalysis/Analysis-of-facial-wrinkles/wrinkled/a9.jpg\n",
      "1.0212110001233197\n",
      "/home/rohit/Desktop/gsoc/RomanArtAnalysis/Analysis-of-facial-wrinkles/wrinkled/a36.jpg\n",
      "1.5231884057971015\n",
      "/home/rohit/Desktop/gsoc/RomanArtAnalysis/Analysis-of-facial-wrinkles/wrinkled/a13.jpg\n",
      "1.2403724079559881\n",
      "/home/rohit/Desktop/gsoc/RomanArtAnalysis/Analysis-of-facial-wrinkles/wrinkled/a34.jpg\n",
      "1.152677857713829\n",
      "/home/rohit/Desktop/gsoc/RomanArtAnalysis/Analysis-of-facial-wrinkles/wrinkled/a24.jpg\n",
      "2.197420634920635\n",
      "/home/rohit/Desktop/gsoc/RomanArtAnalysis/Analysis-of-facial-wrinkles/wrinkled/a2.jpg\n",
      "1.057179000632511\n",
      "/home/rohit/Desktop/gsoc/RomanArtAnalysis/Analysis-of-facial-wrinkles/wrinkled/a10.jpg\n",
      "1.8102418207681366\n",
      "/home/rohit/Desktop/gsoc/RomanArtAnalysis/Analysis-of-facial-wrinkles/wrinkled/a11.jpg\n",
      "2.2314439946018894\n",
      "/home/rohit/Desktop/gsoc/RomanArtAnalysis/Analysis-of-facial-wrinkles/wrinkled/a5.jpg\n",
      "0.9813361241932671\n",
      "/home/rohit/Desktop/gsoc/RomanArtAnalysis/Analysis-of-facial-wrinkles/wrinkled/a20.jpg\n",
      "1.6684584980237154\n",
      "/home/rohit/Desktop/gsoc/RomanArtAnalysis/Analysis-of-facial-wrinkles/wrinkled/a31.jpg\n",
      "0.7693376563223715\n",
      "/home/rohit/Desktop/gsoc/RomanArtAnalysis/Analysis-of-facial-wrinkles/wrinkled/a42.jpg\n",
      "1.497340425531915\n",
      "/home/rohit/Desktop/gsoc/RomanArtAnalysis/Analysis-of-facial-wrinkles/wrinkled/a27.jpg\n",
      "1.6500638569604087\n",
      "/home/rohit/Desktop/gsoc/RomanArtAnalysis/Analysis-of-facial-wrinkles/wrinkled/a16.jpg\n",
      "1.3439913127413128\n",
      "/home/rohit/Desktop/gsoc/RomanArtAnalysis/Analysis-of-facial-wrinkles/wrinkled/a21.jpg\n",
      "1.8747582205029014\n",
      "/home/rohit/Desktop/gsoc/RomanArtAnalysis/Analysis-of-facial-wrinkles/wrinkled/a48.jpg\n",
      "1.364614994934144\n",
      "/home/rohit/Desktop/gsoc/RomanArtAnalysis/Analysis-of-facial-wrinkles/wrinkled/a1.jpg\n",
      "1.4193180196889714\n",
      "/home/rohit/Desktop/gsoc/RomanArtAnalysis/Analysis-of-facial-wrinkles/wrinkled/a44.jpg\n",
      "1.1057382333978079\n",
      "/home/rohit/Desktop/gsoc/RomanArtAnalysis/Analysis-of-facial-wrinkles/wrinkled/a30.jpg\n",
      "1.8601931184550524\n",
      "/home/rohit/Desktop/gsoc/RomanArtAnalysis/Analysis-of-facial-wrinkles/wrinkled/a47.jpg\n",
      "1.6235632183908046\n",
      "/home/rohit/Desktop/gsoc/RomanArtAnalysis/Analysis-of-facial-wrinkles/wrinkled/a4.jpg\n",
      "1.9132448286508181\n",
      "/home/rohit/Desktop/gsoc/RomanArtAnalysis/Analysis-of-facial-wrinkles/wrinkled/a28.jpg\n",
      "2.7168442180021617\n",
      "/home/rohit/Desktop/gsoc/RomanArtAnalysis/Analysis-of-facial-wrinkles/wrinkled/a32.jpg\n",
      "1.1389498317975721\n",
      "/home/rohit/Desktop/gsoc/RomanArtAnalysis/Analysis-of-facial-wrinkles/wrinkled/a43.jpg\n",
      "1.301329185520362\n",
      "/home/rohit/Desktop/gsoc/RomanArtAnalysis/Analysis-of-facial-wrinkles/wrinkled/a3.jpg\n",
      "2.0692196341623896\n",
      "/home/rohit/Desktop/gsoc/RomanArtAnalysis/Analysis-of-facial-wrinkles/wrinkled/a22.jpg\n",
      "1.135862691960253\n",
      "/home/rohit/Desktop/gsoc/RomanArtAnalysis/Analysis-of-facial-wrinkles/wrinkled/a50.jpg\n",
      "1.2985544582796622\n",
      "/home/rohit/Desktop/gsoc/RomanArtAnalysis/Analysis-of-facial-wrinkles/wrinkled/a35.jpg\n",
      "2.6234375\n",
      "/home/rohit/Desktop/gsoc/RomanArtAnalysis/Analysis-of-facial-wrinkles/wrinkled/a45.jpg\n",
      "1.0577922077922077\n",
      "/home/rohit/Desktop/gsoc/RomanArtAnalysis/Analysis-of-facial-wrinkles/wrinkled/a14.jpg\n",
      "1.1176267081819755\n",
      "/home/rohit/Desktop/gsoc/RomanArtAnalysis/Analysis-of-facial-wrinkles/wrinkled/a26.jpg\n",
      "1.5315258511979823\n",
      "/home/rohit/Desktop/gsoc/RomanArtAnalysis/Analysis-of-facial-wrinkles/wrinkled/a12.jpg\n",
      "1.6515743980242847\n",
      "/home/rohit/Desktop/gsoc/RomanArtAnalysis/Analysis-of-facial-wrinkles/wrinkled/a19.jpg\n",
      "0.7541146143168749\n",
      "/home/rohit/Desktop/gsoc/RomanArtAnalysis/Analysis-of-facial-wrinkles/wrinkled/a37.jpg\n",
      "0.9667499519507976\n",
      "/home/rohit/Desktop/gsoc/RomanArtAnalysis/Analysis-of-facial-wrinkles/unwrinkled/b50.jpg\n",
      "0.8888888888888888\n",
      "/home/rohit/Desktop/gsoc/RomanArtAnalysis/Analysis-of-facial-wrinkles/unwrinkled/b23.jpg\n",
      "1.0732581967213115\n",
      "/home/rohit/Desktop/gsoc/RomanArtAnalysis/Analysis-of-facial-wrinkles/unwrinkled/b47.jpg\n",
      "0.8144827586206896\n",
      "/home/rohit/Desktop/gsoc/RomanArtAnalysis/Analysis-of-facial-wrinkles/unwrinkled/b21.jpg\n",
      "0.8673736580256611\n",
      "/home/rohit/Desktop/gsoc/RomanArtAnalysis/Analysis-of-facial-wrinkles/unwrinkled/b30.jpg\n",
      "0.8748137108792846\n",
      "/home/rohit/Desktop/gsoc/RomanArtAnalysis/Analysis-of-facial-wrinkles/unwrinkled/b22.jpg\n",
      "0.8223135642982972\n",
      "/home/rohit/Desktop/gsoc/RomanArtAnalysis/Analysis-of-facial-wrinkles/unwrinkled/b13.jpg\n",
      "0.9820598624279606\n",
      "/home/rohit/Desktop/gsoc/RomanArtAnalysis/Analysis-of-facial-wrinkles/unwrinkled/b37.jpg\n",
      "0.8294339622641509\n",
      "/home/rohit/Desktop/gsoc/RomanArtAnalysis/Analysis-of-facial-wrinkles/unwrinkled/b46.jpg\n",
      "1.2311957569913212\n",
      "/home/rohit/Desktop/gsoc/RomanArtAnalysis/Analysis-of-facial-wrinkles/unwrinkled/b27.jpg\n",
      "0.40284745762711865\n",
      "/home/rohit/Desktop/gsoc/RomanArtAnalysis/Analysis-of-facial-wrinkles/unwrinkled/b24.jpg\n",
      "0.4739537925021796\n",
      "/home/rohit/Desktop/gsoc/RomanArtAnalysis/Analysis-of-facial-wrinkles/unwrinkled/b48.jpg\n",
      "0.4934837889383344\n",
      "/home/rohit/Desktop/gsoc/RomanArtAnalysis/Analysis-of-facial-wrinkles/unwrinkled/b14.jpg\n",
      "0.8497330282227308\n",
      "/home/rohit/Desktop/gsoc/RomanArtAnalysis/Analysis-of-facial-wrinkles/unwrinkled/b33.jpg\n",
      "0.9887519444776833\n",
      "/home/rohit/Desktop/gsoc/RomanArtAnalysis/Analysis-of-facial-wrinkles/unwrinkled/b18.jpg\n",
      "0.8625056535504296\n",
      "/home/rohit/Desktop/gsoc/RomanArtAnalysis/Analysis-of-facial-wrinkles/unwrinkled/b43.jpg\n",
      "0.7051302042725713\n",
      "/home/rohit/Desktop/gsoc/RomanArtAnalysis/Analysis-of-facial-wrinkles/unwrinkled/b4.jpg\n",
      "0.8573291601460615\n",
      "/home/rohit/Desktop/gsoc/RomanArtAnalysis/Analysis-of-facial-wrinkles/unwrinkled/b28.jpg\n",
      "1.0726495726495726\n",
      "/home/rohit/Desktop/gsoc/RomanArtAnalysis/Analysis-of-facial-wrinkles/unwrinkled/b10.jpg\n",
      "0.6201149425287357\n",
      "/home/rohit/Desktop/gsoc/RomanArtAnalysis/Analysis-of-facial-wrinkles/unwrinkled/b39.jpg\n",
      "0.6729567933368037\n",
      "/home/rohit/Desktop/gsoc/RomanArtAnalysis/Analysis-of-facial-wrinkles/unwrinkled/b41.jpg\n",
      "0.8517319065052098\n",
      "/home/rohit/Desktop/gsoc/RomanArtAnalysis/Analysis-of-facial-wrinkles/unwrinkled/b11.jpg\n",
      "0.9791256830601093\n",
      "/home/rohit/Desktop/gsoc/RomanArtAnalysis/Analysis-of-facial-wrinkles/unwrinkled/b35.jpg\n",
      "0.5933314334568253\n",
      "/home/rohit/Desktop/gsoc/RomanArtAnalysis/Analysis-of-facial-wrinkles/unwrinkled/b29.jpg\n",
      "0.7157324204820995\n",
      "/home/rohit/Desktop/gsoc/RomanArtAnalysis/Analysis-of-facial-wrinkles/unwrinkled/b49.jpg\n",
      "0.5554500870115489\n",
      "/home/rohit/Desktop/gsoc/RomanArtAnalysis/Analysis-of-facial-wrinkles/unwrinkled/b17.jpg\n",
      "1.0657967032967033\n",
      "/home/rohit/Desktop/gsoc/RomanArtAnalysis/Analysis-of-facial-wrinkles/unwrinkled/b32.jpg\n",
      "0.6392037198488811\n",
      "/home/rohit/Desktop/gsoc/RomanArtAnalysis/Analysis-of-facial-wrinkles/unwrinkled/b40.jpg\n",
      "0.615610799251537\n",
      "/home/rohit/Desktop/gsoc/RomanArtAnalysis/Analysis-of-facial-wrinkles/unwrinkled/b20.jpg\n",
      "0.5704724409448819\n",
      "/home/rohit/Desktop/gsoc/RomanArtAnalysis/Analysis-of-facial-wrinkles/unwrinkled/b34.jpg\n",
      "1.2039149598133265\n",
      "/home/rohit/Desktop/gsoc/RomanArtAnalysis/Analysis-of-facial-wrinkles/unwrinkled/b6.jpg\n",
      "1.0025303643724697\n",
      "/home/rohit/Desktop/gsoc/RomanArtAnalysis/Analysis-of-facial-wrinkles/unwrinkled/b45.jpg\n",
      "0.849435196195006\n",
      "/home/rohit/Desktop/gsoc/RomanArtAnalysis/Analysis-of-facial-wrinkles/unwrinkled/b7.jpg\n",
      "0.9149052478134111\n",
      "/home/rohit/Desktop/gsoc/RomanArtAnalysis/Analysis-of-facial-wrinkles/unwrinkled/b1.jpg\n",
      "0.9047942546583851\n",
      "/home/rohit/Desktop/gsoc/RomanArtAnalysis/Analysis-of-facial-wrinkles/unwrinkled/b26.jpg\n",
      "0.39160769460779427\n",
      "/home/rohit/Desktop/gsoc/RomanArtAnalysis/Analysis-of-facial-wrinkles/unwrinkled/b25.jpg\n",
      "0.44105263157894736\n",
      "/home/rohit/Desktop/gsoc/RomanArtAnalysis/Analysis-of-facial-wrinkles/unwrinkled/b2.jpg\n",
      "0.8858994501178319\n",
      "/home/rohit/Desktop/gsoc/RomanArtAnalysis/Analysis-of-facial-wrinkles/unwrinkled/b31.jpg\n",
      "0.7632336378425729\n",
      "/home/rohit/Desktop/gsoc/RomanArtAnalysis/Analysis-of-facial-wrinkles/unwrinkled/b16.jpg\n",
      "0.9445111377884488\n",
      "/home/rohit/Desktop/gsoc/RomanArtAnalysis/Analysis-of-facial-wrinkles/unwrinkled/b3.jpg\n",
      "0.8275862068965517\n",
      "/home/rohit/Desktop/gsoc/RomanArtAnalysis/Analysis-of-facial-wrinkles/unwrinkled/b19.jpg\n",
      "0.8562610229276896\n",
      "/home/rohit/Desktop/gsoc/RomanArtAnalysis/Analysis-of-facial-wrinkles/unwrinkled/b12.jpg\n",
      "0.946527304400515\n",
      "/home/rohit/Desktop/gsoc/RomanArtAnalysis/Analysis-of-facial-wrinkles/unwrinkled/b9.jpg\n",
      "0.44132864238410596\n",
      "/home/rohit/Desktop/gsoc/RomanArtAnalysis/Analysis-of-facial-wrinkles/unwrinkled/b44.jpg\n",
      "0.7998447405873981\n",
      "/home/rohit/Desktop/gsoc/RomanArtAnalysis/Analysis-of-facial-wrinkles/unwrinkled/b36.jpg\n",
      "0.7554854981084489\n",
      "/home/rohit/Desktop/gsoc/RomanArtAnalysis/Analysis-of-facial-wrinkles/unwrinkled/b5.jpg\n",
      "1.0203525641025641\n",
      "/home/rohit/Desktop/gsoc/RomanArtAnalysis/Analysis-of-facial-wrinkles/unwrinkled/b42.jpg\n",
      "0.9093129770992366\n",
      "/home/rohit/Desktop/gsoc/RomanArtAnalysis/Analysis-of-facial-wrinkles/unwrinkled/b15.jpg\n",
      "0.8373318988703604\n",
      "[0.8888888888888888, 1.0732581967213115, 0.8144827586206896, 0.8673736580256611, 0.8748137108792846, 0.8223135642982972, 0.9820598624279606, 0.8294339622641509, 1.2311957569913212, 0.40284745762711865, 0.4739537925021796, 0.4934837889383344, 0.8497330282227308, 0.9887519444776833, 0.8625056535504296, 0.7051302042725713, 0.8573291601460615, 1.0726495726495726, 0.6201149425287357, 0.6729567933368037, 0.8517319065052098, 0.9791256830601093, 0.5933314334568253, 0.7157324204820995, 0.5554500870115489, 1.0657967032967033, 0.6392037198488811, 0.615610799251537, 0.5704724409448819, 1.2039149598133265, 1.0025303643724697, 0.849435196195006, 0.9149052478134111, 0.9047942546583851, 0.39160769460779427, 0.44105263157894736, 0.8858994501178319, 0.7632336378425729, 0.9445111377884488, 0.8275862068965517, 0.8562610229276896, 0.946527304400515, 0.44132864238410596, 0.7998447405873981, 0.7554854981084489, 1.0203525641025641, 0.9093129770992366, 0.8373318988703604]\n",
      "1.2311957569913212\n",
      "OKA\n",
      "0.36\n",
      "[1.7418478260869565, 1.5544048801248405, 0.8724709784411276, 0.9134117647058824, 1.246498599439776, 1.0682860998650472, 2.0001502403846154, 1.2107191054559476, 0.9384328358208955, 0.8445369406867846, 2.0116724738675957, 1.6200909466721787, 1.2883116883116883, 2.1505681818181817, 1.7823076923076924, 2.2423076923076923, 1.0212110001233197, 1.5231884057971015, 1.2403724079559881, 1.152677857713829, 2.197420634920635, 1.057179000632511, 1.8102418207681366, 2.2314439946018894, 0.9813361241932671, 1.6684584980237154, 0.7693376563223715, 1.497340425531915, 1.6500638569604087, 1.3439913127413128, 1.8747582205029014, 1.364614994934144, 1.4193180196889714, 1.1057382333978079, 1.8601931184550524, 1.6235632183908046, 1.9132448286508181, 2.7168442180021617, 1.1389498317975721, 1.301329185520362, 2.0692196341623896, 1.135862691960253, 1.2985544582796622, 2.6234375, 1.0577922077922077, 1.1176267081819755, 1.5315258511979823, 1.6515743980242847, 0.7541146143168749, 0.9667499519507976]\n"
     ]
    }
   ],
   "source": [
    "import os\n",
    "import glob\n",
    "import cv2\n",
    "import numpy as np\n",
    "import matplotlib.pyplot as plt\n",
    "\n",
    "path = '/home/rohit/Desktop/gsoc/RomanArtAnalysis/Analysis-of-facial-wrinkles/'\n",
    "classes = ['wrinkled','unwrinkled']\n",
    "\n",
    "Laplacian_wrinkled = []\n",
    "Laplacian_unwrinkled = []\n",
    "\n",
    "for i in classes:\n",
    "    file_path = os.path.join(path, i, '*.jpg')\n",
    "    files = glob.glob(file_path)\n",
    "    for j in files:\n",
    "        image = cv2.imread(j)\n",
    "        image = cv2.cvtColor(image, cv2.COLOR_BGR2RGB)\n",
    "        image_gray = cv2.GaussianBlur(image,(5,5),0)\n",
    "        image_gray = cv2.cvtColor(image_gray, cv2.COLOR_RGB2GRAY)\n",
    "        Laplacian = cv2.Laplacian(image_gray, cv2.CV_8UC1)\n",
    "        \n",
    "        height, width= Laplacian.shape\n",
    "        val_1=0\n",
    "        for i in range(height):\n",
    "            for j in range(width):\n",
    "                if sobely[i][j]>=5:\n",
    "                    val1+=sobely[i][j]\n",
    "        val_1 /=(height * width)\n",
    "        \n",
    "        if i == 'wrinkled':\n",
    "            Laplacian_wrinkled.append(val_1)\n",
    "        else:\n",
    "            Laplacian_unwrinkled.append(val_1)\n",
    "        print(j)\n",
    "        print (val_1)\n",
    "    \n",
    "print(Laplacian_unwrinkled)\n",
    "print(max(Laplacian_unwrinkled))\n",
    "print(\"OKA\")\n",
    "count=0\n",
    "for i in range(0,len(Laplacian_wrinkled)):\n",
    "    if Laplacian_wrinkled[i]<max(Laplacian_unwrinkled):\n",
    "        count+=1\n",
    "print(count/len(Laplacian_wrinkled))\n",
    "print(Laplacian_wrinkled)\n"
   ]
  },
  {
   "cell_type": "code",
   "execution_count": 3,
   "metadata": {},
   "outputs": [
    {
     "name": "stdout",
     "output_type": "stream",
     "text": [
      "88.284291863\n",
      "28.005356\n"
     ]
    }
   ],
   "source": [
    "print(np.mean(sobely_wrinkled))\n",
    "print(np.std(sobely_wrinkled))"
   ]
  },
  {
   "cell_type": "code",
   "execution_count": 4,
   "metadata": {},
   "outputs": [
    {
     "name": "stdout",
     "output_type": "stream",
     "text": [
      "59.3174903256\n",
      "16.3726409888\n"
     ]
    }
   ],
   "source": [
    "print(np.mean(sobelx_wrinkled))\n",
    "print(np.std(sobelx_wrinkled))"
   ]
  },
  {
   "cell_type": "code",
   "execution_count": 5,
   "metadata": {},
   "outputs": [
    {
     "name": "stdout",
     "output_type": "stream",
     "text": [
      "1.57953333135\n",
      "0.633601535489\n"
     ]
    }
   ],
   "source": [
    "print(np.mean(per_wrinkled))\n",
    "print(np.std(per_wrinkled))"
   ]
  },
  {
   "cell_type": "code",
   "execution_count": 8,
   "metadata": {},
   "outputs": [
    {
     "name": "stdout",
     "output_type": "stream",
     "text": [
      "50.8259455629\n",
      "33.0805481623\n"
     ]
    }
   ],
   "source": [
    "print(np.mean(sobely_unwrinkled))\n",
    "print (np.std(sobely_unwrinkled))"
   ]
  },
  {
   "cell_type": "code",
   "execution_count": 9,
   "metadata": {},
   "outputs": [
    {
     "name": "stdout",
     "output_type": "stream",
     "text": [
      "54.900677409\n",
      "22.258786623\n"
     ]
    }
   ],
   "source": [
    "print (np.mean(sobelx_unwrinkled))\n",
    "print (np.std(sobelx_unwrinkled))"
   ]
  },
  {
   "cell_type": "code",
   "execution_count": 10,
   "metadata": {},
   "outputs": [
    {
     "name": "stdout",
     "output_type": "stream",
     "text": [
      "0.876943631877\n",
      "0.418820141461\n"
     ]
    }
   ],
   "source": [
    "print (np.mean(per_unwrinkled))\n",
    "print (np.std(per_unwrinkled))"
   ]
  },
  {
   "cell_type": "code",
   "execution_count": null,
   "metadata": {
    "collapsed": true
   },
   "outputs": [],
   "source": []
  }
 ],
 "metadata": {
  "kernelspec": {
   "display_name": "Python 2",
   "language": "python",
   "name": "python2"
  },
  "language_info": {
   "codemirror_mode": {
    "name": "ipython",
    "version": 3
   },
   "file_extension": ".py",
   "mimetype": "text/x-python",
   "name": "python",
   "nbconvert_exporter": "python",
   "pygments_lexer": "ipython3",
   "version": "3.6.3"
  }
 },
 "nbformat": 4,
 "nbformat_minor": 2
}
