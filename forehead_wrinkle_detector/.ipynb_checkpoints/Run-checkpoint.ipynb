{
 "cells": [
  {
   "cell_type": "code",
   "execution_count": 6,
   "metadata": {},
   "outputs": [
    {
     "name": "stderr",
     "output_type": "stream",
     "text": [
      "/home/rohit/anaconda3/lib/python3.6/site-packages/ipykernel_launcher.py:32: RuntimeWarning: overflow encountered in ubyte_scalars\n"
     ]
    },
    {
     "name": "stdout",
     "output_type": "stream",
     "text": [
      "0.12\n"
     ]
    }
   ],
   "source": [
    "import os\n",
    "import glob\n",
    "import cv2\n",
    "import numpy as np\n",
    "import matplotlib.pyplot as plt\n",
    "\n",
    "path = '/home/rohit/Desktop/gsoc/Roman_Art_Analysis/forehead_wrinkle_detector/'\n",
    "classes = ['wrinkled','unwrinkled']\n",
    "\n",
    "Laplacian_wrinkled = []\n",
    "Laplacian_unwrinkled = []\n",
    "\n",
    "for i in classes:\n",
    "    file_path = os.path.join(path, i, '*.jpg')\n",
    "    files = glob.glob(file_path)\n",
    "    for j in files:\n",
    "        image = cv2.imread(j)\n",
    "        image = cv2.cvtColor(image, cv2.COLOR_BGR2RGB)\n",
    "        image_gray = cv2.GaussianBlur(image,(5,5),0)\n",
    "        image_gray = cv2.cvtColor(image_gray, cv2.COLOR_RGB2GRAY)\n",
    "        Laplacian = cv2.Laplacian(image_gray, cv2.CV_8UC1)\n",
    "\n",
    "        height, width= Laplacian.shape\n",
    "        val_1=0\n",
    "        for l in range(2,height-2):\n",
    "            for m in range(2,width-2):\n",
    "                if Laplacian[l][m]>=2:\n",
    "                    if Laplacian[l][m+1]>=2:\n",
    "                        if Laplacian[l][m-1]>=2:\n",
    "                            if Laplacian[l][m+2]>=2:\n",
    "                                if Laplacian[l][m-2]>=2:\n",
    "                                    val_1+=(Laplacian[l][m]*Laplacian[l][m])\n",
    "        val_1 /=(height * width)\n",
    "        \n",
    "        if i == 'wrinkled':\n",
    "            Laplacian_wrinkled.append(val_1)\n",
    "        else:\n",
    "            Laplacian_unwrinkled.append(val_1)\n",
    "        #print(j)\n",
    "        #print (val_1)\n",
    "    \n",
    "#print(Laplacian_unwrinkled)\n",
    "#print(max(Laplacian_unwrinkled))\n",
    "#print(\"OKA\")\n",
    "count=0\n",
    "for i in range(0,len(Laplacian_wrinkled)):\n",
    "    if Laplacian_wrinkled[i]<max(Laplacian_unwrinkled):\n",
    "        count+=1\n",
    "print(count/len(Laplacian_wrinkled))\n",
    "#print(Laplacian_wrinkled)"
   ]
  },
  {
   "cell_type": "code",
   "execution_count": null,
   "metadata": {
    "collapsed": true
   },
   "outputs": [],
   "source": []
  },
  {
   "cell_type": "code",
   "execution_count": null,
   "metadata": {
    "collapsed": true
   },
   "outputs": [],
   "source": []
  }
 ],
 "metadata": {
  "kernelspec": {
   "display_name": "Python 2",
   "language": "python",
   "name": "python2"
  },
  "language_info": {
   "codemirror_mode": {
    "name": "ipython",
    "version": 3
   },
   "file_extension": ".py",
   "mimetype": "text/x-python",
   "name": "python",
   "nbconvert_exporter": "python",
   "pygments_lexer": "ipython3",
   "version": "3.6.3"
  }
 },
 "nbformat": 4,
 "nbformat_minor": 2
}
